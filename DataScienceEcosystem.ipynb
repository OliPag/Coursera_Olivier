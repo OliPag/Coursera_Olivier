{
 "cells": [
  {
   "cell_type": "markdown",
   "id": "9d0ae9f8",
   "metadata": {},
   "source": [
    "# Data Science Tools and Ecosystem"
   ]
  },
  {
   "cell_type": "markdown",
   "id": "795da62a",
   "metadata": {},
   "source": [
    "In this notebook, Data Science Tools and Ecosystem are summarized."
   ]
  },
  {
   "cell_type": "markdown",
   "id": "7263f6d9",
   "metadata": {},
   "source": [
    "Some of the popular languages that Data Scientists use are:\n",
    "    <ol>\n",
    "    <li>Python</li>\n",
    "    <li>R</li>\n",
    "    <li>Java</li>\n",
    "    <li>SQL</li>\n",
    "    <li>SCALA</li>\n",
    "    <li>Tensor</li>\n",
    "    </ol>"
   ]
  },
  {
   "cell_type": "markdown",
   "id": "ed580485",
   "metadata": {},
   "source": [
    "Some of the commonly used librairies used by Data Scientists include:\n",
    "    <ol>\n",
    "    <li>Ggplot</li>\n",
    "    <li>Tensorflow</li>\n",
    "    <li>Plotly</li>\n",
    "    <li>Pandas</li>\n",
    "    <li>MATLAB</li>\n",
    "    <li>PyTorch</li>\n",
    "    </ol>\n",
    "    "
   ]
  },
  {
   "cell_type": "markdown",
   "id": "06e51b90",
   "metadata": {},
   "source": [
    "|Data Science Tools|\n",
    "|:-|\n",
    "|R Studio|\n",
    "|Apache Spark|\n",
    "|Jupyter notebook|"
   ]
  },
  {
   "cell_type": "markdown",
   "id": "83a4dafd",
   "metadata": {},
   "source": [
    "### Below are few examples of evaluating arithmetic expression in Python"
   ]
  },
  {
   "cell_type": "markdown",
   "id": "41fac256",
   "metadata": {},
   "source": [
    "This is a simple arithmetic expression to multiply then add integers"
   ]
  },
  {
   "cell_type": "code",
   "execution_count": 2,
   "id": "4c3cedbd",
   "metadata": {},
   "outputs": [
    {
     "data": {
      "text/plain": [
       "35"
      ]
     },
     "execution_count": 2,
     "metadata": {},
     "output_type": "execute_result"
    }
   ],
   "source": [
    "(3+4)*5"
   ]
  },
  {
   "cell_type": "markdown",
   "id": "3ac23670",
   "metadata": {},
   "source": [
    "This will convert 200 minutes to hours by ivided by 60"
   ]
  },
  {
   "cell_type": "code",
   "execution_count": 3,
   "id": "87650e33",
   "metadata": {},
   "outputs": [
    {
     "data": {
      "text/plain": [
       "3.3333333333333335"
      ]
     },
     "execution_count": 3,
     "metadata": {},
     "output_type": "execute_result"
    }
   ],
   "source": [
    "200/60"
   ]
  },
  {
   "cell_type": "markdown",
   "id": "eb6b62fe",
   "metadata": {},
   "source": [
    "**Objectives:**\n",
    "* List popular languages for Data Science\n",
    "* List the common librairies used by Data Scientists\n",
    "* Exemple of arithmetic evaluation in Python\n",
    "    "
   ]
  },
  {
   "cell_type": "markdown",
   "id": "d9069ca9",
   "metadata": {},
   "source": [
    "## Author\n",
    "Olivier"
   ]
  }
 ],
 "metadata": {
  "kernelspec": {
   "display_name": "Python 3 (ipykernel)",
   "language": "python",
   "name": "python3"
  },
  "language_info": {
   "codemirror_mode": {
    "name": "ipython",
    "version": 3
   },
   "file_extension": ".py",
   "mimetype": "text/x-python",
   "name": "python",
   "nbconvert_exporter": "python",
   "pygments_lexer": "ipython3",
   "version": "3.11.5"
  }
 },
 "nbformat": 4,
 "nbformat_minor": 5
}
